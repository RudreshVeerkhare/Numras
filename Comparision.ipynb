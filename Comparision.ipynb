{
 "cells": [
  {
   "cell_type": "code",
   "execution_count": 1,
   "metadata": {},
   "outputs": [],
   "source": [
    "import numpy as np\n",
    "from sklearn.metrics import accuracy_score\n",
    "from tensorflow.keras.datasets import mnist\n",
    "from sklearn.preprocessing import OneHotEncoder\n",
    "import matplotlib.pyplot as plt\n",
    "import math\n",
    "\n",
    "from optimizers import RMSProp, AdamOptimizer, AdaDelta, Momentum\n",
    "from numras import Numras"
   ]
  },
  {
   "cell_type": "code",
   "execution_count": 18,
   "metadata": {},
   "outputs": [],
   "source": [
    "from tensorflow.keras.models import Sequential\n",
    "from tensorflow.keras.layers import Dense\n",
    "from tensorflow.keras.optimizers import Adam, RMSprop as KerasRMSProp"
   ]
  },
  {
   "cell_type": "markdown",
   "metadata": {},
   "source": [
    "### Preprocessing the mnist dataset "
   ]
  },
  {
   "cell_type": "code",
   "execution_count": 3,
   "metadata": {},
   "outputs": [
    {
     "name": "stdout",
     "output_type": "stream",
     "text": [
      "X shape - (784, 60000)\n",
      "Y shape - (10, 60000)\n",
      "test_x shape - (784, 10000)\n",
      "test_y shape - (10, 10000)\n"
     ]
    }
   ],
   "source": [
    "# pre processing data mnist dataset\n",
    "(trainX, trainY), (testX, testY) = mnist.load_data()\n",
    "enc = OneHotEncoder(sparse=False, categories='auto')\n",
    "\n",
    "X = trainX.reshape(trainX.shape[0], trainX.shape[1]*trainX.shape[2]).T\n",
    "Y = trainY.reshape(-1, trainY.shape[0])\n",
    "Y = enc.fit_transform(Y.reshape(-1,1)).T\n",
    "\n",
    "test_x = testX.reshape(testX.shape[0], testX.shape[1]*testX.shape[2]).T\n",
    "test_y = testY.reshape(-1, testY.shape[0])\n",
    "test_y = enc.transform(test_y.reshape(-1, 1)).T\n",
    "\n",
    "X = X / 255\n",
    "test_x = test_x / 255\n",
    "\n",
    "print(f\"X shape - {X.shape}\")\n",
    "print(f\"Y shape - {Y.shape}\")\n",
    "print(f\"test_x shape - {test_x.shape}\")\n",
    "print(f\"test_y shape - {test_y.shape}\")"
   ]
  },
  {
   "cell_type": "markdown",
   "metadata": {},
   "source": [
    "### Visualization the given Dataset"
   ]
  },
  {
   "cell_type": "code",
   "execution_count": 34,
   "metadata": {},
   "outputs": [
    {
     "data": {
      "image/png": "[encoded data removed]",
      "text/plain": [
       "<Figure size 720x720 with 16 Axes>"
      ]
     },
     "metadata": {
      "needs_background": "light"
     },
     "output_type": "display_data"
    },
    {
     "data": {
      "text/plain": [
       "<Figure size 1600x1600 with 0 Axes>"
      ]
     },
     "metadata": {},
     "output_type": "display_data"
    }
   ],
   "source": [
    "ncols = 4\n",
    "nrows = 4\n",
    "fig, axs = plt.subplots(ncols=ncols, nrows=nrows, figsize=(10,10))\n",
    "n = 0\n",
    "plt.figure(figsize=(20, 20), dpi=80)\n",
    "\n",
    "permutation = list(np.random.permutation(X.shape[1]))\n",
    "shuffled_X = X[:, permutation]\n",
    "shuffled_Y = Y.argmax(axis=0)[permutation]\n",
    "\n",
    "for i in range(nrows):\n",
    "    for j in range(ncols):\n",
    "        axs[i, j].set_axis_off()\n",
    "        axs[i, j].set_title(f'prediction : {shuffled_Y[n]}', color=\"blue\")\n",
    "        axs[i, j].imshow((shuffled_X[:, n]).reshape(28, 28), aspect='auto')\n",
    "        n += 1"
   ]
  },
  {
   "cell_type": "markdown",
   "metadata": {},
   "source": [
    "### Initializing Optimizers Of NUMRAS"
   ]
  },
  {
   "cell_type": "code",
   "execution_count": 4,
   "metadata": {},
   "outputs": [],
   "source": [
    "# optimizers\n",
    "rms = RMSProp()\n",
    "momentum = Momentum()\n",
    "adam = AdamOptimizer()\n",
    "adelta = AdaDelta()"
   ]
  },
  {
   "cell_type": "markdown",
   "metadata": {},
   "source": [
    "### Comparing performance of KERAS and NUMRAS"
   ]
  },
  {
   "cell_type": "markdown",
   "metadata": {},
   "source": [
    "#### ADAM Optimizer"
   ]
  },
  {
   "cell_type": "code",
   "execution_count": 27,
   "metadata": {},
   "outputs": [
    {
     "name": "stdout",
     "output_type": "stream",
     "text": [
      "[784, 784, 64, 10]\n",
      "Epoch 1 Cost : 0.06278258492590523 Train Accracy : 84.685 Test Accuracy: 85.1\n",
      "Epoch 2 Cost : 0.026570186373422844 Train Accracy : 93.92 Test Accuracy: 93.93\n",
      "Epoch 3 Cost : 0.016774365709192596 Train Accracy : 95.825 Test Accuracy: 95.34\n",
      "Epoch 4 Cost : 0.009356176308904 Train Accracy : 97.13333333333334 Test Accuracy: 96.41999999999999\n",
      "Epoch 5 Cost : 0.01200493221622398 Train Accracy : 97.625 Test Accuracy: 96.83\n",
      "Epoch 6 Cost : 0.010148722537958146 Train Accracy : 97.94500000000001 Test Accuracy: 96.96000000000001\n",
      "Epoch 7 Cost : 0.007185583373188387 Train Accracy : 98.44666666666667 Test Accuracy: 97.31\n",
      "Epoch 8 Cost : 0.004001584758056134 Train Accracy : 98.82166666666666 Test Accuracy: 97.48\n",
      "Epoch 9 Cost : 0.003298931046344677 Train Accracy : 99.02166666666666 Test Accuracy: 97.68\n",
      "Epoch 10 Cost : 0.0036769126935781928 Train Accracy : 99.165 Test Accuracy: 97.66\n",
      "Epoch 11 Cost : 0.0027982260549608267 Train Accracy : 99.32166666666666 Test Accuracy: 97.63\n",
      "Epoch 12 Cost : 0.0023222377837428376 Train Accracy : 99.55166666666668 Test Accuracy: 97.91\n",
      "Epoch 13 Cost : 0.0023739556013538635 Train Accracy : 99.58 Test Accuracy: 97.81\n",
      "Epoch 14 Cost : 0.0016383060879195694 Train Accracy : 99.705 Test Accuracy: 97.94\n",
      "Epoch 15 Cost : 0.001479229070470051 Train Accracy : 99.73833333333333 Test Accuracy: 97.84\n",
      "Epoch 16 Cost : 0.0013458407846916405 Train Accracy : 99.76666666666667 Test Accuracy: 97.91\n",
      "Epoch 17 Cost : 0.0009810861438608411 Train Accracy : 99.85166666666667 Test Accuracy: 97.98\n",
      "Epoch 18 Cost : 0.000881674527448767 Train Accracy : 99.89166666666667 Test Accuracy: 97.99\n",
      "Epoch 19 Cost : 0.0019898245820036266 Train Accracy : 99.92 Test Accuracy: 97.99\n",
      "Epoch 20 Cost : 0.0006961919124835755 Train Accracy : 99.92333333333333 Test Accuracy: 98.03\n"
     ]
    }
   ],
   "source": [
    "# runner ADAM\n",
    "# NUMRAS Nural Network\n",
    "np.random.seed(0)\n",
    "layers = [784, 64, 10] # Nural Network Architecture\n",
    "activation = [\"relu\", \"relu\", \"softmax\"]\n",
    "model = Numras(layers, activation, X.shape[0], optimizer=adam)\n",
    "model.fit(X, Y, learning_rate=0.001, epoches=20, init_method=\"normal\", mini_batch_size=1024, validation_set=(test_x, test_y))"
   ]
  },
  {
   "cell_type": "code",
   "execution_count": 28,
   "metadata": {},
   "outputs": [],
   "source": [
    "model_k = Sequential()\n",
    "model_k.add(Dense(784, input_dim=(784), activation='relu'))\n",
    "model_k.add(Dense(64, activation='relu'))\n",
    "model_k.add(Dense(10, activation='softmax'))\n",
    "opt = Adam(learning_rate=0.001, beta_1=0.9, beta_2=0.999, epsilon=1e-7)\n",
    "model_k.compile(loss='categorical_crossentropy', optimizer=opt, metrics=['accuracy'])"
   ]
  },
  {
   "cell_type": "code",
   "execution_count": 29,
   "metadata": {},
   "outputs": [
    {
     "name": "stdout",
     "output_type": "stream",
     "text": [
      "Train on 60000 samples, validate on 10000 samples\n",
      "Epoch 1/20\n",
      "60000/60000 - 2s - loss: 0.4812 - accuracy: 0.8637 - val_loss: 0.2045 - val_accuracy: 0.9399\n",
      "Epoch 2/20\n",
      "60000/60000 - 1s - loss: 0.1716 - accuracy: 0.9507 - val_loss: 0.1365 - val_accuracy: 0.9596\n",
      "Epoch 3/20\n",
      "60000/60000 - 1s - loss: 0.1176 - accuracy: 0.9662 - val_loss: 0.1091 - val_accuracy: 0.9668\n",
      "Epoch 4/20\n",
      "60000/60000 - 1s - loss: 0.0862 - accuracy: 0.9755 - val_loss: 0.0938 - val_accuracy: 0.9714\n",
      "Epoch 5/20\n",
      "60000/60000 - 1s - loss: 0.0668 - accuracy: 0.9807 - val_loss: 0.0844 - val_accuracy: 0.9734\n",
      "Epoch 6/20\n",
      "60000/60000 - 1s - loss: 0.0529 - accuracy: 0.9849 - val_loss: 0.0785 - val_accuracy: 0.9741\n",
      "Epoch 7/20\n",
      "60000/60000 - 1s - loss: 0.0410 - accuracy: 0.9888 - val_loss: 0.0676 - val_accuracy: 0.9797\n",
      "Epoch 8/20\n",
      "60000/60000 - 1s - loss: 0.0335 - accuracy: 0.9911 - val_loss: 0.0690 - val_accuracy: 0.9789\n",
      "Epoch 9/20\n",
      "60000/60000 - 1s - loss: 0.0276 - accuracy: 0.9928 - val_loss: 0.0688 - val_accuracy: 0.9797\n",
      "Epoch 10/20\n",
      "60000/60000 - 1s - loss: 0.0210 - accuracy: 0.9952 - val_loss: 0.0621 - val_accuracy: 0.9807\n",
      "Epoch 11/20\n",
      "60000/60000 - 1s - loss: 0.0163 - accuracy: 0.9968 - val_loss: 0.0624 - val_accuracy: 0.9808\n",
      "Epoch 12/20\n",
      "60000/60000 - 1s - loss: 0.0142 - accuracy: 0.9970 - val_loss: 0.0631 - val_accuracy: 0.9806\n",
      "Epoch 13/20\n",
      "60000/60000 - 1s - loss: 0.0116 - accuracy: 0.9979 - val_loss: 0.0610 - val_accuracy: 0.9803\n",
      "Epoch 14/20\n",
      "60000/60000 - 1s - loss: 0.0086 - accuracy: 0.9987 - val_loss: 0.0641 - val_accuracy: 0.9811\n",
      "Epoch 15/20\n",
      "60000/60000 - 1s - loss: 0.0070 - accuracy: 0.9992 - val_loss: 0.0621 - val_accuracy: 0.9817\n",
      "Epoch 16/20\n",
      "60000/60000 - 1s - loss: 0.0059 - accuracy: 0.9993 - val_loss: 0.0632 - val_accuracy: 0.9816\n",
      "Epoch 17/20\n",
      "60000/60000 - 1s - loss: 0.0049 - accuracy: 0.9997 - val_loss: 0.0633 - val_accuracy: 0.9815\n",
      "Epoch 18/20\n",
      "60000/60000 - 1s - loss: 0.0037 - accuracy: 0.9998 - val_loss: 0.0635 - val_accuracy: 0.9810\n",
      "Epoch 19/20\n",
      "60000/60000 - 1s - loss: 0.0029 - accuracy: 0.9998 - val_loss: 0.0633 - val_accuracy: 0.9814\n",
      "Epoch 20/20\n",
      "60000/60000 - 1s - loss: 0.0024 - accuracy: 0.9999 - val_loss: 0.0642 - val_accuracy: 0.9819\n"
     ]
    }
   ],
   "source": [
    "H = model_k.fit(X.T, Y.T, validation_data=(test_x.T, test_y.T), epochs=20, batch_size=1024, verbose=2)"
   ]
  },
  {
   "cell_type": "code",
   "execution_count": 30,
   "metadata": {},
   "outputs": [
    {
     "data": {
      "text/plain": [
       "<matplotlib.axes._subplots.AxesSubplot at 0x246ce27a608>"
      ]
     },
     "execution_count": 30,
     "metadata": {},
     "output_type": "execute_result"
    },
    {
     "data": {
      "image/png": "[encoded data removed]",
      "text/plain": [
       "<Figure size 432x288 with 1 Axes>"
      ]
     },
     "metadata": {
      "needs_background": "light"
     },
     "output_type": "display_data"
    }
   ],
   "source": [
    "import seaborn as sns\n",
    "sns.lineplot(y=model.history[\"test_acc\"], x=range(20), label=\"numras\")\n",
    "sns.lineplot(y=H.history[\"val_accuracy\"], x=range(20), label=\"keras\")"
   ]
  },
  {
   "cell_type": "markdown",
   "metadata": {},
   "source": [
    "In above graph validation set accuracy of Keras and Numras is compaired"
   ]
  },
  {
   "cell_type": "code",
   "execution_count": 31,
   "metadata": {},
   "outputs": [
    {
     "data": {
      "text/plain": [
       "<matplotlib.axes._subplots.AxesSubplot at 0x246ce3036c8>"
      ]
     },
     "execution_count": 31,
     "metadata": {},
     "output_type": "execute_result"
    },
    {
     "data": {
      "image/png": "[encoded data removed]",
      "text/plain": [
       "<Figure size 432x288 with 1 Axes>"
      ]
     },
     "metadata": {
      "needs_background": "light"
     },
     "output_type": "display_data"
    }
   ],
   "source": [
    "sns.lineplot(y=model.history[\"train_acc\"], x=range(20), label=\"numras\")\n",
    "sns.lineplot(y=H.history[\"accuracy\"], x=range(20), label=\"keras\")"
   ]
  },
  {
   "cell_type": "markdown",
   "metadata": {},
   "source": [
    "In above graph training set accuracy of Keras and Numras is compaired"
   ]
  },
  {
   "cell_type": "markdown",
   "metadata": {},
   "source": [
    "#### RMSProp Optimizer"
   ]
  },
  {
   "cell_type": "code",
   "execution_count": 13,
   "metadata": {},
   "outputs": [
    {
     "name": "stdout",
     "output_type": "stream",
     "text": [
      "[784, 784, 64, 10]\n",
      "Epoch 1 Cost : 0.47571962086082964 Train Accracy : 29.096666666666664 Test Accuracy: 29.12\n",
      "Epoch 2 Cost : 0.12272999562165993 Train Accracy : 69.28666666666666 Test Accuracy: 69.01\n",
      "Epoch 3 Cost : 0.04018748691541046 Train Accracy : 88.25166666666667 Test Accuracy: 88.71\n",
      "Epoch 4 Cost : 0.026947064275155617 Train Accracy : 91.63833333333334 Test Accuracy: 91.75999999999999\n",
      "Epoch 5 Cost : 0.02088797417024663 Train Accracy : 94.19999999999999 Test Accuracy: 94.11\n",
      "Epoch 6 Cost : 0.017824254529140583 Train Accracy : 95.48166666666667 Test Accuracy: 95.19999999999999\n",
      "Epoch 7 Cost : 0.01577250357843075 Train Accracy : 94.82666666666667 Test Accuracy: 94.35\n",
      "Epoch 8 Cost : 0.00813503046117891 Train Accracy : 97.03 Test Accuracy: 96.41999999999999\n",
      "Epoch 9 Cost : 0.006859797185283862 Train Accracy : 97.73166666666665 Test Accuracy: 96.95\n",
      "Epoch 10 Cost : 0.007314472392222025 Train Accracy : 97.855 Test Accuracy: 96.95\n",
      "Epoch 11 Cost : 0.00515356452868514 Train Accracy : 98.86333333333333 Test Accuracy: 97.75\n",
      "Epoch 12 Cost : 0.0027339991074226432 Train Accracy : 99.06666666666666 Test Accuracy: 98.02\n",
      "Epoch 13 Cost : 0.0038423233156729434 Train Accracy : 99.3 Test Accuracy: 97.89999999999999\n",
      "Epoch 14 Cost : 0.0030382668641221575 Train Accracy : 98.95166666666667 Test Accuracy: 97.72\n",
      "Epoch 15 Cost : 0.003667190713875449 Train Accracy : 99.07833333333333 Test Accuracy: 97.53\n",
      "Epoch 16 Cost : 0.003551199129374445 Train Accracy : 99.65833333333333 Test Accuracy: 97.92\n",
      "Epoch 17 Cost : 0.0010088789106913335 Train Accracy : 99.74666666666666 Test Accuracy: 98.11\n",
      "Epoch 18 Cost : 0.001109533763744788 Train Accracy : 99.77833333333334 Test Accuracy: 98.11\n",
      "Epoch 19 Cost : 0.003217289539850861 Train Accracy : 99.11999999999999 Test Accuracy: 97.48\n",
      "Epoch 20 Cost : 0.0005240304731798424 Train Accracy : 99.86666666666667 Test Accuracy: 98.1\n"
     ]
    }
   ],
   "source": [
    "# runner RMSProp\n",
    "# NUMRAS Nural Network\n",
    "np.random.seed(0)\n",
    "layers = [784, 64, 10]\n",
    "activation = [\"relu\", \"relu\", \"softmax\"]\n",
    "model = Numras(layers, activation, X.shape[0], optimizer=rms)\n",
    "model.fit(X, Y, learning_rate=0.001, epoches=20, init_method=\"xavier\", mini_batch_size=1024, validation_set=(test_x, test_y))"
   ]
  },
  {
   "cell_type": "code",
   "execution_count": 19,
   "metadata": {},
   "outputs": [],
   "source": [
    "model_k = Sequential()\n",
    "model_k.add(Dense(784, input_dim=(784), activation='relu'))\n",
    "model_k.add(Dense(64, activation='relu'))\n",
    "model_k.add(Dense(10, activation='softmax'))\n",
    "opt = KerasRMSProp(learning_rate=0.001, rho=0.9)\n",
    "model_k.compile(loss='categorical_crossentropy', optimizer=opt, metrics=['accuracy'])"
   ]
  },
  {
   "cell_type": "code",
   "execution_count": 20,
   "metadata": {},
   "outputs": [
    {
     "name": "stdout",
     "output_type": "stream",
     "text": [
      "Train on 60000 samples, validate on 10000 samples\n",
      "Epoch 1/20\n",
      "60000/60000 - 2s - loss: 0.5332 - accuracy: 0.8398 - val_loss: 0.2756 - val_accuracy: 0.9180\n",
      "Epoch 2/20\n",
      "60000/60000 - 2s - loss: 0.2066 - accuracy: 0.9386 - val_loss: 0.1624 - val_accuracy: 0.9504\n",
      "Epoch 3/20\n",
      "60000/60000 - 2s - loss: 0.1377 - accuracy: 0.9586 - val_loss: 0.1971 - val_accuracy: 0.9345\n",
      "Epoch 4/20\n",
      "60000/60000 - 1s - loss: 0.1010 - accuracy: 0.9689 - val_loss: 0.1041 - val_accuracy: 0.9685\n",
      "Epoch 5/20\n",
      "60000/60000 - 1s - loss: 0.0785 - accuracy: 0.9763 - val_loss: 0.1178 - val_accuracy: 0.9645\n",
      "Epoch 6/20\n",
      "60000/60000 - 1s - loss: 0.0613 - accuracy: 0.9808 - val_loss: 0.0897 - val_accuracy: 0.9730\n",
      "Epoch 7/20\n",
      "60000/60000 - 1s - loss: 0.0481 - accuracy: 0.9849 - val_loss: 0.1016 - val_accuracy: 0.9662\n",
      "Epoch 8/20\n",
      "60000/60000 - 1s - loss: 0.0402 - accuracy: 0.9879 - val_loss: 0.0971 - val_accuracy: 0.9690\n",
      "Epoch 9/20\n",
      "60000/60000 - 1s - loss: 0.0323 - accuracy: 0.9903 - val_loss: 0.0732 - val_accuracy: 0.9771\n",
      "Epoch 10/20\n",
      "60000/60000 - 1s - loss: 0.0257 - accuracy: 0.9922 - val_loss: 0.0743 - val_accuracy: 0.9769\n",
      "Epoch 11/20\n",
      "60000/60000 - 1s - loss: 0.0207 - accuracy: 0.9942 - val_loss: 0.0578 - val_accuracy: 0.9822\n",
      "Epoch 12/20\n",
      "60000/60000 - 1s - loss: 0.0175 - accuracy: 0.9947 - val_loss: 0.0612 - val_accuracy: 0.9817\n",
      "Epoch 13/20\n",
      "60000/60000 - 2s - loss: 0.0131 - accuracy: 0.9965 - val_loss: 0.0630 - val_accuracy: 0.9814\n",
      "Epoch 14/20\n",
      "60000/60000 - 1s - loss: 0.0126 - accuracy: 0.9966 - val_loss: 0.0609 - val_accuracy: 0.9826\n",
      "Epoch 15/20\n",
      "60000/60000 - 1s - loss: 0.0096 - accuracy: 0.9972 - val_loss: 0.0650 - val_accuracy: 0.9814\n",
      "Epoch 16/20\n",
      "60000/60000 - 1s - loss: 0.0092 - accuracy: 0.9975 - val_loss: 0.0661 - val_accuracy: 0.9815\n",
      "Epoch 17/20\n",
      "60000/60000 - 2s - loss: 0.0082 - accuracy: 0.9977 - val_loss: 0.0678 - val_accuracy: 0.9820\n",
      "Epoch 18/20\n",
      "60000/60000 - 1s - loss: 0.0078 - accuracy: 0.9981 - val_loss: 0.0898 - val_accuracy: 0.9777\n",
      "Epoch 19/20\n",
      "60000/60000 - 1s - loss: 0.0044 - accuracy: 0.9989 - val_loss: 0.0868 - val_accuracy: 0.9787\n",
      "Epoch 20/20\n",
      "60000/60000 - 1s - loss: 0.0070 - accuracy: 0.9982 - val_loss: 0.0682 - val_accuracy: 0.9831\n"
     ]
    }
   ],
   "source": [
    "H = model_k.fit(X.T, Y.T, validation_data=(test_x.T, test_y.T), epochs=20, batch_size=1024, verbose=2)"
   ]
  },
  {
   "cell_type": "code",
   "execution_count": 24,
   "metadata": {},
   "outputs": [
    {
     "data": {
      "text/plain": [
       "<matplotlib.axes._subplots.AxesSubplot at 0x246ca1ccfc8>"
      ]
     },
     "execution_count": 24,
     "metadata": {},
     "output_type": "execute_result"
    },
    {
     "data": {
      "image/png": "[encoded data removed]",
      "text/plain": [
       "<Figure size 432x288 with 1 Axes>"
      ]
     },
     "metadata": {
      "needs_background": "light"
     },
     "output_type": "display_data"
    }
   ],
   "source": [
    "sns.lineplot(y=model.history[\"test_acc\"], x=range(20), label=\"numras\")\n",
    "sns.lineplot(y=H.history[\"val_accuracy\"], x=range(20), label=\"keras\")"
   ]
  },
  {
   "cell_type": "markdown",
   "metadata": {},
   "source": [
    "In above graph validation set accuracy of Keras and Numras is compaired"
   ]
  },
  {
   "cell_type": "code",
   "execution_count": 23,
   "metadata": {},
   "outputs": [
    {
     "data": {
      "text/plain": [
       "<matplotlib.axes._subplots.AxesSubplot at 0x246cbfb3bc8>"
      ]
     },
     "execution_count": 23,
     "metadata": {},
     "output_type": "execute_result"
    },
    {
     "data": {
      "image/png": "[encoded data removed]",
      "text/plain": [
       "<Figure size 432x288 with 1 Axes>"
      ]
     },
     "metadata": {
      "needs_background": "light"
     },
     "output_type": "display_data"
    }
   ],
   "source": [
    "sns.lineplot(y=model.history[\"train_acc\"], x=range(20), label=\"numras\")\n",
    "sns.lineplot(y=H.history[\"accuracy\"], x=range(20), label=\"keras\")"
   ]
  },
  {
   "cell_type": "markdown",
   "metadata": {},
   "source": [
    "In above graph training set accuracy of Keras and Numras is compaired"
   ]
  }
 ],
 "metadata": {
  "kernelspec": {
   "display_name": "Python 3",
   "language": "python",
   "name": "python3"
  },
  "language_info": {
   "codemirror_mode": {
    "name": "ipython",
    "version": 3
   },
   "file_extension": ".py",
   "mimetype": "text/x-python",
   "name": "python",
   "nbconvert_exporter": "python",
   "pygments_lexer": "ipython3",
   "version": "3.7.4"
  }
 },
 "nbformat": 4,
 "nbformat_minor": 2
}
